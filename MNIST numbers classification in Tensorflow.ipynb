{
 "cells": [
  {
   "cell_type": "code",
   "execution_count": 1,
   "id": "7951bb48",
   "metadata": {},
   "outputs": [],
   "source": [
    "import numpy as np\n",
    "import tensorflow as tf\n",
    "import pandas as pd"
   ]
  },
  {
   "cell_type": "code",
   "execution_count": 2,
   "id": "a1de393c",
   "metadata": {},
   "outputs": [],
   "source": [
    "data = pd.read_csv('../data/mnist/train.csv')"
   ]
  },
  {
   "cell_type": "code",
   "execution_count": 3,
   "id": "6f8efb8b",
   "metadata": {},
   "outputs": [],
   "source": [
    "train_inputs = data.iloc[0:33600-1,1:785]\n",
    "train_targets = data.iloc[0:33600-1,0:1]\n",
    "\n",
    "val_inputs = data.iloc[33600:33600+4200-1,1:785]\n",
    "val_targets = data.iloc[33600:33600+4200-1,0:1]\n",
    "\n",
    "test_inputs = data.iloc[33600+4200-1:33600+8400-1,1:785]\n",
    "test_targets = data.iloc[33600+4200-1:33600+8400-1,0:1]\n",
    "\n",
    "\n",
    "# i know its messed, but i made it work "
   ]
  },
  {
   "cell_type": "code",
   "execution_count": 4,
   "id": "1c3a62d3",
   "metadata": {},
   "outputs": [],
   "source": [
    "inputs = data.iloc[:,1:785]\n",
    "target = data['label']"
   ]
  },
  {
   "cell_type": "code",
   "execution_count": 5,
   "id": "04f4d838",
   "metadata": {},
   "outputs": [],
   "source": [
    "model = tf.keras.Sequential([\n",
    "    tf.keras.layers.Dense(200,activation='relu'),\n",
    "    tf.keras.layers.Dense(200,activation='relu'),\n",
    "    tf.keras.layers.Dense(200,activation='relu'),\n",
    "    tf.keras.layers.Dense(200,activation='relu'),\n",
    "    tf.keras.layers.Dense(10,activation='softmax')\n",
    "])"
   ]
  },
  {
   "cell_type": "code",
   "execution_count": 6,
   "id": "d1b0a98e",
   "metadata": {},
   "outputs": [],
   "source": [
    "model.compile(optimizer='Adam',loss='sparse_categorical_crossentropy',metrics=['accuracy'])"
   ]
  },
  {
   "cell_type": "code",
   "execution_count": 7,
   "id": "2e3c905e",
   "metadata": {},
   "outputs": [
    {
     "name": "stdout",
     "output_type": "stream",
     "text": [
      "Epoch 1/10\n",
      "1050/1050 - 5s - loss: 0.9119 - accuracy: 0.8645 - val_loss: 0.2812 - val_accuracy: 0.9276 - 5s/epoch - 4ms/step\n",
      "Epoch 2/10\n",
      "1050/1050 - 5s - loss: 0.2279 - accuracy: 0.9358 - val_loss: 0.1976 - val_accuracy: 0.9445 - 5s/epoch - 5ms/step\n",
      "Epoch 3/10\n",
      "1050/1050 - 10s - loss: 0.1733 - accuracy: 0.9495 - val_loss: 0.1962 - val_accuracy: 0.9495 - 10s/epoch - 9ms/step\n",
      "Epoch 4/10\n",
      "1050/1050 - 13s - loss: 0.1454 - accuracy: 0.9580 - val_loss: 0.2669 - val_accuracy: 0.9336 - 13s/epoch - 13ms/step\n",
      "Epoch 5/10\n",
      "1050/1050 - 10s - loss: 0.1397 - accuracy: 0.9598 - val_loss: 0.1652 - val_accuracy: 0.9526 - 10s/epoch - 9ms/step\n",
      "Epoch 6/10\n",
      "1050/1050 - 4s - loss: 0.1197 - accuracy: 0.9649 - val_loss: 0.1635 - val_accuracy: 0.9581 - 4s/epoch - 4ms/step\n",
      "Epoch 7/10\n",
      "1050/1050 - 6s - loss: 0.1056 - accuracy: 0.9691 - val_loss: 0.2029 - val_accuracy: 0.9500 - 6s/epoch - 6ms/step\n",
      "Epoch 8/10\n",
      "1050/1050 - 5s - loss: 0.1021 - accuracy: 0.9715 - val_loss: 0.1762 - val_accuracy: 0.9536 - 5s/epoch - 5ms/step\n",
      "Epoch 9/10\n",
      "1050/1050 - 5s - loss: 0.0898 - accuracy: 0.9749 - val_loss: 0.1328 - val_accuracy: 0.9736 - 5s/epoch - 5ms/step\n",
      "Epoch 10/10\n",
      "1050/1050 - 7s - loss: 0.0879 - accuracy: 0.9758 - val_loss: 0.1519 - val_accuracy: 0.9600 - 7s/epoch - 7ms/step\n"
     ]
    },
    {
     "data": {
      "text/plain": [
       "<keras.callbacks.History at 0x7f1c697c6210>"
      ]
     },
     "execution_count": 7,
     "metadata": {},
     "output_type": "execute_result"
    }
   ],
   "source": [
    "model.fit(train_inputs,train_targets,epochs=10,validation_data=(val_inputs,val_targets),verbose=2)"
   ]
  },
  {
   "cell_type": "code",
   "execution_count": 56,
   "id": "095e3eab",
   "metadata": {},
   "outputs": [
    {
     "name": "stdout",
     "output_type": "stream",
     "text": [
      "132/132 [==============================] - 0s 2ms/step - loss: 0.1869 - accuracy: 0.9574\n"
     ]
    }
   ],
   "source": [
    "loss, accuracy = model.evaluate(test_inputs,test_targets)"
   ]
  },
  {
   "cell_type": "code",
   "execution_count": 57,
   "id": "849bb83a",
   "metadata": {},
   "outputs": [
    {
     "name": "stdout",
     "output_type": "stream",
     "text": [
      "Loss:  0.18688243627548218 Accuracy:  95.73809504508972 %\n"
     ]
    }
   ],
   "source": [
    "print(\"Loss: \", loss, \"Accuracy: \", (accuracy * 100), \"%\")"
   ]
  }
 ],
 "metadata": {
  "kernelspec": {
   "display_name": "TF Alpha",
   "language": "python",
   "name": "tf_alpha"
  },
  "language_info": {
   "codemirror_mode": {
    "name": "ipython",
    "version": 3
   },
   "file_extension": ".py",
   "mimetype": "text/x-python",
   "name": "python",
   "nbconvert_exporter": "python",
   "pygments_lexer": "ipython3",
   "version": "3.7.13"
  }
 },
 "nbformat": 4,
 "nbformat_minor": 5
}
